{
 "cells": [
  {
   "cell_type": "code",
   "execution_count": 1,
   "id": "7e8f5bb9",
   "metadata": {},
   "outputs": [],
   "source": [
    "from Bio import motifs"
   ]
  },
  {
   "cell_type": "markdown",
   "id": "d96fa190",
   "metadata": {},
   "source": [
    "Creating a simple DNA Motif\n",
    "Let's create a DNA motif sequence"
   ]
  },
  {
   "cell_type": "code",
   "execution_count": 2,
   "id": "7e3e612f",
   "metadata": {},
   "outputs": [],
   "source": [
    "from Bio.Seq import Seq\n",
    "instances = [\n",
    "    Seq(\"TACAA\"),\n",
    "    Seq(\"TACGC\"),\n",
    "    Seq(\"TACAC\"),\n",
    "    Seq(\"TACCC\"),\n",
    "    Seq(\"AACCC\"),\n",
    "    Seq(\"AATGC\"),\n",
    "    Seq(\"AATGC\")\n",
    "]"
   ]
  },
  {
   "cell_type": "code",
   "execution_count": 3,
   "id": "5cbd9b2f",
   "metadata": {},
   "outputs": [],
   "source": [
    "m = motifs.create(instances)"
   ]
  },
  {
   "cell_type": "code",
   "execution_count": 4,
   "id": "9fbac2d8",
   "metadata": {},
   "outputs": [
    {
     "name": "stdout",
     "output_type": "stream",
     "text": [
      "TACAA\n",
      "TACGC\n",
      "TACAC\n",
      "TACCC\n",
      "AACCC\n",
      "AATGC\n",
      "AATGC\n"
     ]
    }
   ],
   "source": [
    "print(m)"
   ]
  },
  {
   "cell_type": "markdown",
   "id": "477d5b19",
   "metadata": {},
   "source": [
    "The instances are saved in an attribute .instances"
   ]
  },
  {
   "cell_type": "code",
   "execution_count": 5,
   "id": "81464a51",
   "metadata": {},
   "outputs": [
    {
     "name": "stderr",
     "output_type": "stream",
     "text": [
      "C:\\Users\\Apollo Gadget\\anaconda3\\lib\\site-packages\\Bio\\motifs\\__init__.py:478: BiopythonDeprecationWarning: The instances attribute has been deprecated. Instead of mymotif.instances, please use mymotif.alignment.sequences.\n",
      "  warnings.warn(\n"
     ]
    },
    {
     "data": {
      "text/plain": [
       "[Seq('TACAA'),\n",
       " Seq('TACGC'),\n",
       " Seq('TACAC'),\n",
       " Seq('TACCC'),\n",
       " Seq('AACCC'),\n",
       " Seq('AATGC'),\n",
       " Seq('AATGC')]"
      ]
     },
     "execution_count": 5,
     "metadata": {},
     "output_type": "execute_result"
    }
   ],
   "source": [
    "m.instances"
   ]
  },
  {
   "cell_type": "markdown",
   "id": "a0ace46c",
   "metadata": {},
   "source": [
    "The Motif object has an attribute .counts containing the counts of each nucleotide at each position. Printing this counts matrix shows it in an easily readable format:"
   ]
  },
  {
   "cell_type": "code",
   "execution_count": 6,
   "id": "d477c7f3",
   "metadata": {},
   "outputs": [
    {
     "name": "stdout",
     "output_type": "stream",
     "text": [
      "        0      1      2      3      4\n",
      "A:   3.00   7.00   0.00   2.00   1.00\n",
      "C:   0.00   0.00   5.00   2.00   6.00\n",
      "G:   0.00   0.00   0.00   3.00   0.00\n",
      "T:   4.00   0.00   2.00   0.00   0.00\n",
      "\n"
     ]
    }
   ],
   "source": [
    "#uporer seqnce thke 0,1,2,3,4 no position e a,t,c,g, koyta ase setar table\n",
    "\n",
    "print(m.counts)"
   ]
  },
  {
   "cell_type": "markdown",
   "id": "1b3e6ad5",
   "metadata": {},
   "source": [
    "We can access these counts as a dictionary:"
   ]
  },
  {
   "cell_type": "code",
   "execution_count": 7,
   "id": "129929fe",
   "metadata": {},
   "outputs": [
    {
     "data": {
      "text/plain": [
       "[3.0, 7.0, 0.0, 2.0, 1.0]"
      ]
     },
     "execution_count": 7,
     "metadata": {},
     "output_type": "execute_result"
    }
   ],
   "source": [
    "#specific a er count kre dey\n",
    "m.counts['A']"
   ]
  },
  {
   "cell_type": "markdown",
   "id": "6da88be4",
   "metadata": {},
   "source": [
    "We can also directly access columns of the counts matrix:"
   ]
  },
  {
   "cell_type": "code",
   "execution_count": 8,
   "id": "b9631a82",
   "metadata": {},
   "outputs": [
    {
     "data": {
      "text/plain": [
       "{'A': 2.0, 'C': 2.0, 'G': 3.0, 'T': 0.0}"
      ]
     },
     "execution_count": 8,
     "metadata": {},
     "output_type": "execute_result"
    }
   ],
   "source": [
    "#3 no position kon neuclotide koya ase oita ber kore dey\n",
    "m.counts[:, 3]"
   ]
  },
  {
   "cell_type": "markdown",
   "id": "7aceed28",
   "metadata": {},
   "source": [
    "The motif has an associated consensus sequence, defined as the sequence of letters along the positions of the motif for which the largest value in the corresponding columns of the .counts matrix is obtained:"
   ]
  },
  {
   "cell_type": "code",
   "execution_count": 9,
   "id": "5f043a60",
   "metadata": {},
   "outputs": [
    {
     "data": {
      "text/plain": [
       "Seq('TACGC')"
      ]
     },
     "execution_count": 9,
     "metadata": {},
     "output_type": "execute_result"
    }
   ],
   "source": [
    "#highest position er sequence create kre dey\n",
    "m.consensus"
   ]
  },
  {
   "cell_type": "markdown",
   "id": "cb521017",
   "metadata": {},
   "source": [
    "As well as an anticonsensus sequence, corresponding to the smallest values in the columns of the .counts matrix:"
   ]
  },
  {
   "cell_type": "code",
   "execution_count": 10,
   "id": "8cfb2c3b",
   "metadata": {},
   "outputs": [
    {
     "data": {
      "text/plain": [
       "Seq('CCATG')"
      ]
     },
     "execution_count": 10,
     "metadata": {},
     "output_type": "execute_result"
    }
   ],
   "source": [
    "#lowest wise sequence create kore dey\n",
    "m.anticonsensus"
   ]
  },
  {
   "cell_type": "markdown",
   "id": "887377d6",
   "metadata": {},
   "source": [
    "Note that there is some ambiguity in the definition of the consensus and anticonsensus sequence if in some columns multiple nucleotides have the maximum or minimum count. You can also ask for a degenerate consensus sequence, in which ambiguous nucleotides are used for positions where there are multiple nucleotides with high counts:"
   ]
  },
  {
   "cell_type": "code",
   "execution_count": 11,
   "id": "cd8db419",
   "metadata": {},
   "outputs": [
    {
     "data": {
      "text/plain": [
       "Seq('WACVC')"
      ]
     },
     "execution_count": 11,
     "metadata": {},
     "output_type": "execute_result"
    }
   ],
   "source": [
    "m.degenerate_consensus"
   ]
  },
  {
   "cell_type": "markdown",
   "id": "a1c794ea",
   "metadata": {},
   "source": [
    "Here, W and V follow the IUPAC nucleotide ambiguity codes: W is either A or T, and V is A, C, or G"
   ]
  }
 ],
 "metadata": {
  "kernelspec": {
   "display_name": "Python 3 (ipykernel)",
   "language": "python",
   "name": "python3"
  },
  "language_info": {
   "codemirror_mode": {
    "name": "ipython",
    "version": 3
   },
   "file_extension": ".py",
   "mimetype": "text/x-python",
   "name": "python",
   "nbconvert_exporter": "python",
   "pygments_lexer": "ipython3",
   "version": "3.10.9"
  }
 },
 "nbformat": 4,
 "nbformat_minor": 5
}
